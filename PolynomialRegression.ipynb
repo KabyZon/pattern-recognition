{
  "nbformat": 4,
  "nbformat_minor": 0,
  "metadata": {
    "colab": {
      "name": "PolynomialRegression",
      "provenance": [],
      "collapsed_sections": [
        "LGXcFOmdD7Sz"
      ],
      "toc_visible": true,
      "include_colab_link": true
    },
    "kernelspec": {
      "name": "python3",
      "display_name": "Python 3"
    }
  },
  "cells": [
    {
      "cell_type": "markdown",
      "metadata": {
        "id": "view-in-github",
        "colab_type": "text"
      },
      "source": [
        "<a href=\"https://colab.research.google.com/github/KabyZon/pattern-recognition/blob/master/PolynomialRegression.ipynb\" target=\"_parent\"><img src=\"https://colab.research.google.com/assets/colab-badge.svg\" alt=\"Open In Colab\"/></a>"
      ]
    },
    {
      "cell_type": "markdown",
      "metadata": {
        "id": "LGXcFOmdD7Sz",
        "colab_type": "text"
      },
      "source": [
        "# ***1. GENERACIÓN DE DATOS***\n",
        "###Implementamos una función para la generación de 200 sets de datos $D = \\{(x_i,t_i)\\}_{(i=1,...,10)}$   . Los $x_i$ serán aleatorios y estarán distribuídos uniformemente dentro del intervalo $[0, 1]$. Para cada $x_i$ se generará independientemente un valor $t_i$ = $sin(2πx_i) + r$ correspondiente, donde $r$ será ruido Gaussiano $N (0, 0.3^2)$.\n",
        "\n",
        "\n",
        "\n",
        "\n",
        "\n"
      ]
    },
    {
      "cell_type": "code",
      "metadata": {
        "id": "RBWmuOyffQjB",
        "colab_type": "code",
        "colab": {}
      },
      "source": [
        "#GENERACION DE DATOS  \n",
        "import numpy as np\n",
        "import math\n",
        "class generar_datos():\n",
        "    def __init__(self,a,b,mu,sigma,N,L):\n",
        "        self.a = a\n",
        "        self.b = b\n",
        "        self.mu = mu\n",
        "        self.sigma = sigma\n",
        "        self.N = N\n",
        "        self.L = L\n",
        "    def crearTargets(self,x):\n",
        "        ruido = np.random.normal(self.mu, self.sigma**2)\n",
        "        return math.sin(2*(np.pi)*x) + ruido\n",
        "\n",
        "    def generar_set(self):\n",
        "        X = np.random.uniform(self.a, self.b, self.N)\n",
        "        X.sort()\n",
        "        return [X, np.array([self.crearTargets(x) for x in X])]\n",
        "    \n",
        "    def generar_D(self) :\n",
        "        D = []\n",
        "        for i in range(0, L):\n",
        "            D.append(self.generar_set())\n",
        "        return D"
      ],
      "execution_count": 1,
      "outputs": []
    },
    {
      "cell_type": "code",
      "metadata": {
        "id": "bV-sL2ogbSOO",
        "colab_type": "code",
        "colab": {}
      },
      "source": [
        "#PLOTEAR \n",
        "import math\n",
        "import matplotlib.pyplot as plt\n",
        "\n",
        "eje_x = np.linspace(0, 1, 100)\n",
        "senoidal = np.sin(2*math.pi*eje_x)\n",
        "def plotear(d):\n",
        "    plt.plot(eje_x, senoidal,'c-',label= \"sin(2πx)\")\n",
        "    plt.legend(loc=\"upper right\")\n",
        "    plt.plot(d[0], d[1],'m o',label =\"Datos\")\n",
        "    plt.legend(loc=\"upper right\")\n",
        "    \n",
        "    #plt.grid(True, which='both')\n",
        "    #plt.axhline(y=0, color='k')\n",
        "    \n",
        "\n"
      ],
      "execution_count": 6,
      "outputs": []
    },
    {
      "cell_type": "code",
      "metadata": {
        "id": "LBW44ITTLL3j",
        "colab_type": "code",
        "colab": {
          "base_uri": "https://localhost:8080/",
          "height": 0
        },
        "outputId": "2dc2de8d-33fd-4821-d0a5-b4035e8fc37a"
      },
      "source": [
        "a = 0\n",
        "b = 1\n",
        "sigma = 0.3\n",
        "mu = 0\n",
        "N = 10\n",
        "L = 200\n",
        "generador = generar_datos(a,b,mu,sigma,N,L)\n",
        "D = generador.generar_D()\n",
        "plotear(D[0])"
      ],
      "execution_count": 19,
      "outputs": [
        {
          "output_type": "display_data",
          "data": {
            "image/png": "[encoded data removed]",
            "text/plain": [
              "<Figure size 432x288 with 1 Axes>"
            ]
          },
          "metadata": {
            "tags": []
          }
        }
      ]
    },
    {
      "cell_type": "markdown",
      "metadata": {
        "id": "dANDu8L_LTZ4",
        "colab_type": "text"
      },
      "source": [
        "# **2. ENTRENAMIENTO DE DATOS** \n",
        "###Implementamos una función que devuelva el vector de pesos óptimo $w^∗$ para un set de datos $D$, un grado de polinomio $M$ y error cuadrático sin término de regularización $ED(w)$ y con término de regularización $E(w)$.\n",
        "\n",
        "###Estimamos el valor medio del error y su desviación standard en ambos casos utilizando los 200 sets de datos generados en el primer punto.\n",
        "\n",
        "\\begin{array}{{|c|c|c|}}\n",
        "\\text{Orden}&\\text{Regularizador}&\\text{Error Medio}&\\text{Desvío Standard del Error}&\\text{Máximo Error Medio}&\\text{Mínimo Error Medio}\\\\\n",
        "\\hline\n",
        "8&0&3.719&21.43&119.43&2.198e-07\\\\\n",
        "\\hline\n",
        "8&0.5& 2.105&0.618& 3.762&0.786\\\\\n",
        "\\hline\n",
        "8&e^{-18}&0.016&0.0108&0.059&0.0003\\\\\n",
        "\\hline\n",
        "3&0&0.0301&0.0189&0.112&0.002\\\\\n",
        "\\hline\n",
        "3&0.5&1.225&0.280&2.184&0.305\\\\\n",
        "\\hline\n",
        "3&e^{-18}&0.0311&0.0167& 0.112&0.0024\\\\\n",
        "\\end{array}\n",
        "\n"
      ]
    },
    {
      "cell_type": "code",
      "metadata": {
        "id": "9k1oY0RmNlAh",
        "colab_type": "code",
        "colab": {}
      },
      "source": [
        "#CONSEGUIR Ws\n",
        "import numpy as np\n",
        "from sklearn.preprocessing import PolynomialFeatures\n",
        "                    \n",
        "class modelo:\n",
        "        \n",
        "    def __init__(self,d,reg,orden):\n",
        "        self.x = d[0]\n",
        "        self.y = d[1].reshape(len(d[1]),1)\n",
        "        self.reg = reg\n",
        "        self.orden = orden\n",
        "        self.mat = PolynomialFeatures(orden).fit_transform(d[0][:, None])\n",
        "    \n",
        "    def w(self):\n",
        "      try:\n",
        "        regu = self.reg * np.identity(self.orden+1)\n",
        "        i = np.linalg.inv(regu + np.matmul(np.transpose(self.mat),self.mat) )\n",
        "        j = np.matmul(i,np.transpose(self.mat))\n",
        "        return np.matmul(j,self.y)\n",
        "     \n",
        "      except np.linalg.LinAlgError as err:\n",
        "        if 'Singular matrix' in str(err):     #CASO LAMBDA =0,PUEDE SER SINGULAR\n",
        "          ip = np.linalg.pinv(self.mat )\n",
        "          return np.matmul(ip,self.y)\n",
        "            \n",
        "        else:\n",
        "          raise\n"
      ],
      "execution_count": 3,
      "outputs": []
    },
    {
      "cell_type": "code",
      "metadata": {
        "id": "_ibxr88EYM9h",
        "colab_type": "code",
        "colab": {}
      },
      "source": [
        "def error_cuadratico(ypred,y):\n",
        "    ret = ((ypred - y)**2).sum()\n",
        "    return ret/2\n",
        "\n",
        "def errorRegularizador(ypred,y,w,reg):\n",
        "    ws = (w**2).sum()\n",
        "    res = error_cuadratico(ypred,y) + (reg*ws)/2\n",
        "    return res \n",
        "\n",
        "def desvio(e,eMedio) :\n",
        "    res = 0\n",
        "    for i in range (0,len(e)):\n",
        "        res += (e[i] - eMedio)**2\n",
        "    res = res/ len(e) \n",
        "    res = res**0.5\n",
        "    return res   "
      ],
      "execution_count": 4,
      "outputs": []
    },
    {
      "cell_type": "code",
      "metadata": {
        "id": "c7gHETKJWlty",
        "colab_type": "code",
        "colab": {}
      },
      "source": [
        "def prediccion(w,x,orden):\n",
        "    pol = PolynomialFeatures(orden)\n",
        "    i = np.array([x])\n",
        "    s = pol.fit_transform(i[:, None])\n",
        "    return np.matmul(s,w)[0][0]\n",
        "def pred (W,X,orden):\n",
        "    return[prediccion(W,x,orden) for x in X]\n",
        "\n",
        "#ENTRENA SOBRE TODOS LOS SETS DE DATOS Y DEVUELVE CADA W y SUS RESPECTIVOS ERRORES\n",
        "def train(D,orden,reg,hasta):\n",
        "    errores=[]\n",
        "    ws = []\n",
        "    for i in range (0,hasta):\n",
        "        mod= modelo(D[i],reg,orden)\n",
        "        w = mod.w()\n",
        "        ws.append(w)\n",
        "        yfit = pred(w,D[i][0],orden)\n",
        "        e= errorRegularizador(yfit,D[i][1],w,reg)\n",
        "        errores.append(e)\n",
        "    return [errores,ws]"
      ],
      "execution_count": 5,
      "outputs": []
    },
    {
      "cell_type": "code",
      "metadata": {
        "id": "y-ZL-mlofV52",
        "colab_type": "code",
        "colab": {
          "base_uri": "https://localhost:8080/",
          "height": 90
        },
        "outputId": "f58b2c0d-fdfa-4b12-9ea5-904ffab78a00"
      },
      "source": [
        "#ENTRENAMIENTO PARA (ORDEN,REG)\n",
        "orden= 3\n",
        "reg = 1e-10\n",
        "\n",
        "entrenamiento = train(D,orden,0,len(D))       # sin regularizador\n",
        "entrenamiento3 = train(D,orden,math.exp(-10),len(D))  \n",
        "entrenamientoR = train(D,orden,reg,len(D))     # con regularizador\n",
        "\n",
        "errores_sets = entrenamiento[0]\n",
        "errorMedio = sum(errores_sets)/len(errores_sets)\n",
        "desvioError = desvio(errores_sets,errorMedio)\n",
        "\n",
        "errores_setsR = entrenamientoR[0]\n",
        "errorMedioR = sum(errores_setsR)/len(errores_setsR)\n",
        "desvioErrorR = desvio(errores_setsR,errorMedioR)\n",
        "\n",
        "print(\"Sin Regularizador:\")\n",
        "print(\"error medio = \",errorMedio, \"; desvio = \" ,desvioError)\n",
        "print(\"Con Regularizador:\")\n",
        "print(\"error medio = \",errorMedioR, \"; desvio = \" ,desvioErrorR)"
      ],
      "execution_count": 25,
      "outputs": [
        {
          "output_type": "stream",
          "text": [
            "Sin Regularizador:\n",
            "error medio =  0.03483226920973175 ; desvio =  0.021427942544950243\n",
            "Con Regularizador:\n",
            "error medio =  0.03483237453707857 ; desvio =  0.021427935900926794\n"
          ],
          "name": "stdout"
        }
      ]
    },
    {
      "cell_type": "code",
      "metadata": {
        "id": "FNpLOJM3Pdkc",
        "colab_type": "code",
        "colab": {
          "base_uri": "https://localhost:8080/",
          "height": 90
        },
        "outputId": "6be3c7b0-5510-46ab-fd60-f83a17844409"
      },
      "source": [
        "orden= 8\n",
        "reg = 1e-10\n",
        "\n",
        "entrenamiento = train(D,orden,0,len(D))       # sin regularizador\n",
        "entrenamiento3 = train(D,orden,math.exp(-10),len(D))  \n",
        "entrenamientoR = train(D,orden,reg,len(D))     # con regularizador\n",
        "\n",
        "errores_sets = entrenamiento[0]\n",
        "errorMedio = sum(errores_sets)/len(errores_sets)\n",
        "desvioError = desvio(errores_sets,errorMedio)\n",
        "\n",
        "errores_setsR = entrenamientoR[0]\n",
        "errorMedioR = sum(errores_setsR)/len(errores_setsR)\n",
        "desvioErrorR = desvio(errores_setsR,errorMedioR)\n",
        "\n",
        "print(\"Sin Regularizador:\")\n",
        "print(\"error medio = \",errorMedio, \"; desvio = \" ,desvioError)\n",
        "print(\"Con Regularizador:\")\n",
        "print(\"error medio = \",errorMedioR, \"; desvio = \" ,desvioErrorR)"
      ],
      "execution_count": 27,
      "outputs": [
        {
          "output_type": "stream",
          "text": [
            "Sin Regularizador:\n",
            "error medio =  1.1165900025673066 ; desvio =  14.583717253686915\n",
            "Con Regularizador:\n",
            "error medio =  0.011440269391815644 ; desvio =  0.009885758800362573\n"
          ],
          "name": "stdout"
        }
      ]
    },
    {
      "cell_type": "code",
      "metadata": {
        "id": "0dSvXrDkQns5",
        "colab_type": "code",
        "colab": {
          "base_uri": "https://localhost:8080/",
          "height": 551
        },
        "outputId": "04b429e0-1295-4e81-b999-a9cb1aa1fffe"
      },
      "source": [
        "#POLINOMIO GRADO 3\n",
        "numero_set = 3 #@param {type:\"slider\", min:0, max:200, step:1}\n",
        "\n",
        "w = entrenamiento[1][numero_set]\n",
        "p = pred(w,eje_x,orden)\n",
        "plt.title('Sin Regularizador ')\n",
        "plt.plot(eje_x,p,color = \"brown\")\n",
        "plotear(D[numero_set])\n",
        "plt.show()\n",
        "\n",
        "wR = entrenamientoR[1][numero_set]\n",
        "plt.title(f\"con Regularizador,lambda = {reg} \")\n",
        "pR= pred(wR,eje_x,orden)\n",
        "plt.plot(eje_x,pR,color = \"brown\")\n",
        "plotear(D[numero_set])\n",
        "plt.show()"
      ],
      "execution_count": 26,
      "outputs": [
        {
          "output_type": "display_data",
          "data": {
            "image/png": "[encoded data removed]",
            "text/plain": [
              "<Figure size 432x288 with 1 Axes>"
            ]
          },
          "metadata": {
            "tags": []
          }
        },
        {
          "output_type": "display_data",
          "data": {
            "image/png": "[encoded data removed]",
            "text/plain": [
              "<Figure size 432x288 with 1 Axes>"
            ]
          },
          "metadata": {
            "tags": []
          }
        }
      ]
    },
    {
      "cell_type": "code",
      "metadata": {
        "id": "Z_R2z1dcPhfa",
        "colab_type": "code",
        "colab": {
          "base_uri": "https://localhost:8080/",
          "height": 551
        },
        "outputId": "23521fc3-cdad-458f-b750-1636ac639d2a"
      },
      "source": [
        "#POLINOMIO GRADO 8\n",
        "numero_set = 3 #@param {type:\"slider\", min:0, max:200, step:1}\n",
        "\n",
        "w = entrenamiento[1][numero_set]\n",
        "p = pred(w,eje_x,orden)\n",
        "plt.title('Sin Regularizador ')\n",
        "plt.plot(eje_x,p,color = \"brown\")\n",
        "plotear(D[numero_set])\n",
        "plt.show()\n",
        "\n",
        "wR = entrenamientoR[1][numero_set]\n",
        "plt.title(f\"con Regularizador,lambda = {reg} \")\n",
        "pR= pred(wR,eje_x,orden)\n",
        "plt.plot(eje_x,pR,color = \"brown\")\n",
        "plotear(D[numero_set])\n",
        "plt.show()"
      ],
      "execution_count": 28,
      "outputs": [
        {
          "output_type": "display_data",
          "data": {
            "image/png": "[encoded data removed]",
            "text/plain": [
              "<Figure size 432x288 with 1 Axes>"
            ]
          },
          "metadata": {
            "tags": []
          }
        },
        {
          "output_type": "display_data",
          "data": {
            "image/png": "[encoded data removed]",
            "text/plain": [
              "<Figure size 432x288 with 1 Axes>"
            ]
          },
          "metadata": {
            "tags": []
          }
        }
      ]
    },
    {
      "cell_type": "markdown",
      "metadata": {
        "id": "l_1kXIn8lbUi",
        "colab_type": "text"
      },
      "source": [
        "# **3. VALIDATION Y TESTING** \n",
        "###Determinaremos la mejor combinación de valores para los hiperparámetros λ\n",
        "###y M mediante validación cruzada (cross-validation) utilizando los datos del primer punto. Para ello separaremos previamente 20 sets de los 200 datos para testing."
      ]
    },
    {
      "cell_type": "code",
      "metadata": {
        "id": "waRtDJakW4Oq",
        "colab_type": "code",
        "colab": {}
      },
      "source": [
        "#PROMEDIANDO WS\n",
        "def promediarW (w):\n",
        "  res = w[0]\n",
        "  for i in range(1,len(w)):\n",
        "    res = res + w[i]\n",
        "  return res/len(w)\n",
        "\n",
        "def testPR(orden,reg,setTest,w):\n",
        "  E = []\n",
        "  for s in setTest:\n",
        "    yfit = pred(w,s[0],orden)\n",
        "    e = errorRegularizador(yfit,s[1],w,0)\n",
        "    E.append(e)\n",
        "  return E\n"
      ],
      "execution_count": 33,
      "outputs": []
    },
    {
      "cell_type": "code",
      "metadata": {
        "id": "oh6jDyx9ljlc",
        "colab_type": "code",
        "colab": {}
      },
      "source": [
        "#CROSS VALIDATION\n",
        "def formarParejas(regus,ordenes):\n",
        "    parejas = []\n",
        "    for orden in ordenes:\n",
        "        for reg in regus:\n",
        "            parejas.append((orden,reg))\n",
        "    return parejas\n",
        "\n",
        "def errorMedio(E):\n",
        "    ret = sum(E)\n",
        "    return ret/len(E)\n",
        "\n",
        "def wpart(W,s,part):\n",
        "    tampart= len(W)//s\n",
        "    i = (part ) *tampart\n",
        "    j = (part+1)*tampart\n",
        "    w1 = W[0:i]\n",
        "    w2 = W[j:len(W)]\n",
        "    w = w1 + w2\n",
        "    return w\n",
        "\n",
        "\n",
        "def cross(W,D,orden,lam,s):\n",
        "    e= []\n",
        "    tampart= len(W)//s\n",
        "    i = 0\n",
        "    j = tampart\n",
        "    h = 0\n",
        "    for h in range(0,s):\n",
        "        particion = D[i:j]\n",
        "        w = wpart(W,s,h)\n",
        "        wpromedio = promediarW(w)\n",
        "        errorPart = errorMedio(testPR(orden,lam,particion,wpromedio))\n",
        "        e.append(errorPart)\n",
        "        i = i + tampart\n",
        "        j = j +tampart\n",
        "       \n",
        "    return e\n",
        "       \n",
        "\n",
        "#AUXILIAR\n",
        "def promediosParticion(p):\n",
        "    ret = []\n",
        "    for i in range (0,len(p)):\n",
        "        e = sum(p[i])/len(p[0])\n",
        "        ret.append(e)\n",
        "    return ret\n",
        "\n",
        "def crossSobreCadaPareja(D,parejas,s):\n",
        "    erroresParejas = []\n",
        "    for pareja in parejas:\n",
        "        w = train(D,pareja[0],pareja[1],180)[1]\n",
        "        c = cross(w,D,pareja[0],pareja[1],s)\n",
        "        p = errorMedio(c)\n",
        "        erroresParejas.append(p)\n",
        "    return erroresParejas"
      ],
      "execution_count": 31,
      "outputs": []
    },
    {
      "cell_type": "code",
      "metadata": {
        "id": "mDusKppeo4cx",
        "colab_type": "code",
        "colab": {
          "base_uri": "https://localhost:8080/",
          "height": 1000
        },
        "outputId": "cc5988cd-3c20-4040-bb03-6012ed2cd194"
      },
      "source": [
        "#HACEMOS CROSS SOBRE TODAS LAS PAREJAS \n",
        "\n",
        "parejas = formarParejas([10*-5,10**-6,10**-7,10**-8,10**-9],[3,4,5,6,7,8,9])\n",
        "\n",
        "CROSS = crossSobreCadaPareja(D,parejas,5)\n",
        "\n",
        "indiceMP = CROSS.index(min(CROSS))\n",
        "import pandas as pd\n",
        "print(\"Mejor Pareja :\" ,parejas[indiceMP] )\n",
        "print(\"Error =\", CROSS[indiceMP])\n",
        "pd.DataFrame({\"PAREJAS\":parejas,\"ERROR CROSS\":CROSS})"
      ],
      "execution_count": 32,
      "outputs": [
        {
          "output_type": "stream",
          "text": [
            "Mejor Pareja : (3, 1e-06)\n",
            "Error = 0.07065906211374676\n"
          ],
          "name": "stdout"
        },
        {
          "output_type": "execute_result",
          "data": {
            "text/html": [
              "<div>\n",
              "<style scoped>\n",
              "    .dataframe tbody tr th:only-of-type {\n",
              "        vertical-align: middle;\n",
              "    }\n",
              "\n",
              "    .dataframe tbody tr th {\n",
              "        vertical-align: top;\n",
              "    }\n",
              "\n",
              "    .dataframe thead th {\n",
              "        text-align: right;\n",
              "    }\n",
              "</style>\n",
              "<table border=\"1\" class=\"dataframe\">\n",
              "  <thead>\n",
              "    <tr style=\"text-align: right;\">\n",
              "      <th></th>\n",
              "      <th>PAREJAS</th>\n",
              "      <th>ERROR CROSS</th>\n",
              "    </tr>\n",
              "  </thead>\n",
              "  <tbody>\n",
              "    <tr>\n",
              "      <th>0</th>\n",
              "      <td>(3, -50)</td>\n",
              "      <td>2.716885</td>\n",
              "    </tr>\n",
              "    <tr>\n",
              "      <th>1</th>\n",
              "      <td>(3, 1e-06)</td>\n",
              "      <td>0.070659</td>\n",
              "    </tr>\n",
              "    <tr>\n",
              "      <th>2</th>\n",
              "      <td>(3, 1e-07)</td>\n",
              "      <td>0.071858</td>\n",
              "    </tr>\n",
              "    <tr>\n",
              "      <th>3</th>\n",
              "      <td>(3, 1e-08)</td>\n",
              "      <td>0.072064</td>\n",
              "    </tr>\n",
              "    <tr>\n",
              "      <th>4</th>\n",
              "      <td>(3, 1e-09)</td>\n",
              "      <td>0.072086</td>\n",
              "    </tr>\n",
              "    <tr>\n",
              "      <th>5</th>\n",
              "      <td>(4, -50)</td>\n",
              "      <td>2.766961</td>\n",
              "    </tr>\n",
              "    <tr>\n",
              "      <th>6</th>\n",
              "      <td>(4, 1e-06)</td>\n",
              "      <td>0.114934</td>\n",
              "    </tr>\n",
              "    <tr>\n",
              "      <th>7</th>\n",
              "      <td>(4, 1e-07)</td>\n",
              "      <td>0.139855</td>\n",
              "    </tr>\n",
              "    <tr>\n",
              "      <th>8</th>\n",
              "      <td>(4, 1e-08)</td>\n",
              "      <td>0.171610</td>\n",
              "    </tr>\n",
              "    <tr>\n",
              "      <th>9</th>\n",
              "      <td>(4, 1e-09)</td>\n",
              "      <td>0.225017</td>\n",
              "    </tr>\n",
              "    <tr>\n",
              "      <th>10</th>\n",
              "      <td>(5, -50)</td>\n",
              "      <td>2.805535</td>\n",
              "    </tr>\n",
              "    <tr>\n",
              "      <th>11</th>\n",
              "      <td>(5, 1e-06)</td>\n",
              "      <td>0.147195</td>\n",
              "    </tr>\n",
              "    <tr>\n",
              "      <th>12</th>\n",
              "      <td>(5, 1e-07)</td>\n",
              "      <td>0.126953</td>\n",
              "    </tr>\n",
              "    <tr>\n",
              "      <th>13</th>\n",
              "      <td>(5, 1e-08)</td>\n",
              "      <td>0.146533</td>\n",
              "    </tr>\n",
              "    <tr>\n",
              "      <th>14</th>\n",
              "      <td>(5, 1e-09)</td>\n",
              "      <td>0.218004</td>\n",
              "    </tr>\n",
              "    <tr>\n",
              "      <th>15</th>\n",
              "      <td>(6, -50)</td>\n",
              "      <td>2.835825</td>\n",
              "    </tr>\n",
              "    <tr>\n",
              "      <th>16</th>\n",
              "      <td>(6, 1e-06)</td>\n",
              "      <td>0.154330</td>\n",
              "    </tr>\n",
              "    <tr>\n",
              "      <th>17</th>\n",
              "      <td>(6, 1e-07)</td>\n",
              "      <td>0.139372</td>\n",
              "    </tr>\n",
              "    <tr>\n",
              "      <th>18</th>\n",
              "      <td>(6, 1e-08)</td>\n",
              "      <td>0.200970</td>\n",
              "    </tr>\n",
              "    <tr>\n",
              "      <th>19</th>\n",
              "      <td>(6, 1e-09)</td>\n",
              "      <td>0.240723</td>\n",
              "    </tr>\n",
              "    <tr>\n",
              "      <th>20</th>\n",
              "      <td>(7, -50)</td>\n",
              "      <td>2.860185</td>\n",
              "    </tr>\n",
              "    <tr>\n",
              "      <th>21</th>\n",
              "      <td>(7, 1e-06)</td>\n",
              "      <td>0.156575</td>\n",
              "    </tr>\n",
              "    <tr>\n",
              "      <th>22</th>\n",
              "      <td>(7, 1e-07)</td>\n",
              "      <td>0.170913</td>\n",
              "    </tr>\n",
              "    <tr>\n",
              "      <th>23</th>\n",
              "      <td>(7, 1e-08)</td>\n",
              "      <td>0.268095</td>\n",
              "    </tr>\n",
              "    <tr>\n",
              "      <th>24</th>\n",
              "      <td>(7, 1e-09)</td>\n",
              "      <td>0.567976</td>\n",
              "    </tr>\n",
              "    <tr>\n",
              "      <th>25</th>\n",
              "      <td>(8, -50)</td>\n",
              "      <td>2.880259</td>\n",
              "    </tr>\n",
              "    <tr>\n",
              "      <th>26</th>\n",
              "      <td>(8, 1e-06)</td>\n",
              "      <td>0.160851</td>\n",
              "    </tr>\n",
              "    <tr>\n",
              "      <th>27</th>\n",
              "      <td>(8, 1e-07)</td>\n",
              "      <td>0.228578</td>\n",
              "    </tr>\n",
              "    <tr>\n",
              "      <th>28</th>\n",
              "      <td>(8, 1e-08)</td>\n",
              "      <td>0.415072</td>\n",
              "    </tr>\n",
              "    <tr>\n",
              "      <th>29</th>\n",
              "      <td>(8, 1e-09)</td>\n",
              "      <td>2.509087</td>\n",
              "    </tr>\n",
              "    <tr>\n",
              "      <th>30</th>\n",
              "      <td>(9, -50)</td>\n",
              "      <td>2.897189</td>\n",
              "    </tr>\n",
              "    <tr>\n",
              "      <th>31</th>\n",
              "      <td>(9, 1e-06)</td>\n",
              "      <td>0.170507</td>\n",
              "    </tr>\n",
              "    <tr>\n",
              "      <th>32</th>\n",
              "      <td>(9, 1e-07)</td>\n",
              "      <td>0.327585</td>\n",
              "    </tr>\n",
              "    <tr>\n",
              "      <th>33</th>\n",
              "      <td>(9, 1e-08)</td>\n",
              "      <td>0.753021</td>\n",
              "    </tr>\n",
              "    <tr>\n",
              "      <th>34</th>\n",
              "      <td>(9, 1e-09)</td>\n",
              "      <td>8.492950</td>\n",
              "    </tr>\n",
              "  </tbody>\n",
              "</table>\n",
              "</div>"
            ],
            "text/plain": [
              "       PAREJAS  ERROR CROSS\n",
              "0     (3, -50)     2.716885\n",
              "1   (3, 1e-06)     0.070659\n",
              "2   (3, 1e-07)     0.071858\n",
              "3   (3, 1e-08)     0.072064\n",
              "4   (3, 1e-09)     0.072086\n",
              "5     (4, -50)     2.766961\n",
              "6   (4, 1e-06)     0.114934\n",
              "7   (4, 1e-07)     0.139855\n",
              "8   (4, 1e-08)     0.171610\n",
              "9   (4, 1e-09)     0.225017\n",
              "10    (5, -50)     2.805535\n",
              "11  (5, 1e-06)     0.147195\n",
              "12  (5, 1e-07)     0.126953\n",
              "13  (5, 1e-08)     0.146533\n",
              "14  (5, 1e-09)     0.218004\n",
              "15    (6, -50)     2.835825\n",
              "16  (6, 1e-06)     0.154330\n",
              "17  (6, 1e-07)     0.139372\n",
              "18  (6, 1e-08)     0.200970\n",
              "19  (6, 1e-09)     0.240723\n",
              "20    (7, -50)     2.860185\n",
              "21  (7, 1e-06)     0.156575\n",
              "22  (7, 1e-07)     0.170913\n",
              "23  (7, 1e-08)     0.268095\n",
              "24  (7, 1e-09)     0.567976\n",
              "25    (8, -50)     2.880259\n",
              "26  (8, 1e-06)     0.160851\n",
              "27  (8, 1e-07)     0.228578\n",
              "28  (8, 1e-08)     0.415072\n",
              "29  (8, 1e-09)     2.509087\n",
              "30    (9, -50)     2.897189\n",
              "31  (9, 1e-06)     0.170507\n",
              "32  (9, 1e-07)     0.327585\n",
              "33  (9, 1e-08)     0.753021\n",
              "34  (9, 1e-09)     8.492950"
            ]
          },
          "metadata": {
            "tags": []
          },
          "execution_count": 32
        }
      ]
    },
    {
      "cell_type": "code",
      "metadata": {
        "id": "DH7Kjb_uo4hH",
        "colab_type": "code",
        "colab": {
          "base_uri": "https://localhost:8080/",
          "height": 320
        },
        "outputId": "6bccf7b8-e9d3-4f50-a646-33e343f046ca"
      },
      "source": [
        "#TESTEO SOBRE LA MEJOR PAREJA\n",
        "mejorpareja = parejas[indiceMP]\n",
        "wtest = train(D,mejorpareja[0],mejorpareja[1],180)[1]\n",
        "wpromediotest = promediarW(wtest)\n",
        "ERRORTEST = testPR(mejorpareja[0],mejorpareja[1],D[180:200],wpromediotest)\n",
        "print(\"ERROR TEST DE LA MEJOR PAREJA\")\n",
        "print(errorMedio(ERRORTEST))\n",
        "w = train(D,mejorpareja[0],mejorpareja[1],180)[1]\n",
        "w = promediarW(w)\n",
        "\n",
        "p = pred(w,eje_x,mejorpareja[0])\n",
        "\n",
        "plt.plot(eje_x,p,color = \"red\",label = \"cross\")\n",
        "plt.legend(loc=\"upper right\")\n",
        "\n",
        "eje_x = np.linspace(0, 1, 100)\n",
        "senoidal = np.sin(2*math.pi*eje_x)\n",
        "\n",
        "plt.plot(eje_x, senoidal,'c-',label = \"sin(2πx)\")\n",
        "plt.legend(loc=\"upper right\")\n",
        "plt.title(\"Mejor Pareja\")\n",
        "plt.show()"
      ],
      "execution_count": 36,
      "outputs": [
        {
          "output_type": "stream",
          "text": [
            "ERROR TEST DE LA MEJOR PAREJA\n",
            "0.06470527517933897\n"
          ],
          "name": "stdout"
        },
        {
          "output_type": "display_data",
          "data": {
            "image/png": "[encoded data removed]",
            "text/plain": [
              "<Figure size 432x288 with 1 Axes>"
            ]
          },
          "metadata": {
            "tags": []
          }
        }
      ]
    },
    {
      "cell_type": "markdown",
      "metadata": {
        "id": "WrhaGl2OVGkk",
        "colab_type": "text"
      },
      "source": [
        "#  ERRORES DE TESTING SOBRE DIFERENTES PAREJAS\n",
        "\n"
      ]
    },
    {
      "cell_type": "code",
      "metadata": {
        "id": "4lZRC3v4Kjn3",
        "colab_type": "code",
        "colab": {
          "base_uri": "https://localhost:8080/",
          "height": 288
        },
        "outputId": "3663a810-e146-4cf4-94da-7f5810e09fd8"
      },
      "source": [
        "def eTest(regularizadores,ordenes) :\n",
        "    ret = []\n",
        "    o = []\n",
        "    r = []\n",
        "    for reg in regularizadores:\n",
        "        for orden in ordenes:\n",
        "            w = promediarW(train(D,orden,reg,180)[1])\n",
        "            t = testPR(orden,reg,D[180:200],w)\n",
        "            a = errorMedio(t)\n",
        "            ret.append(a)\n",
        "            r.append(reg)\n",
        "            o.append(orden)\n",
        "    return [r,o,ret]\n",
        "\n",
        "import pandas as pd\n",
        "regularizadores = [10**-3,10**-4,10**-5,10**-6,10**-7,10**-8,10**-9]\n",
        "dataheatTEST = eTest(regularizadores,[3,4,5,6,7,8,9])\n",
        "dat = pd.DataFrame({\"Regularizador\":dataheatTEST[0],\"Orden\":dataheatTEST[1],\"ErrorTest\": dataheatTEST[2]})\n",
        "dat = dat.pivot(\"Regularizador\",\"Orden\",\"ErrorTest\")\n",
        "dat"
      ],
      "execution_count": 37,
      "outputs": [
        {
          "output_type": "execute_result",
          "data": {
            "text/html": [
              "<div>\n",
              "<style scoped>\n",
              "    .dataframe tbody tr th:only-of-type {\n",
              "        vertical-align: middle;\n",
              "    }\n",
              "\n",
              "    .dataframe tbody tr th {\n",
              "        vertical-align: top;\n",
              "    }\n",
              "\n",
              "    .dataframe thead th {\n",
              "        text-align: right;\n",
              "    }\n",
              "</style>\n",
              "<table border=\"1\" class=\"dataframe\">\n",
              "  <thead>\n",
              "    <tr style=\"text-align: right;\">\n",
              "      <th>Orden</th>\n",
              "      <th>3</th>\n",
              "      <th>4</th>\n",
              "      <th>5</th>\n",
              "      <th>6</th>\n",
              "      <th>7</th>\n",
              "      <th>8</th>\n",
              "      <th>9</th>\n",
              "    </tr>\n",
              "    <tr>\n",
              "      <th>Regularizador</th>\n",
              "      <th></th>\n",
              "      <th></th>\n",
              "      <th></th>\n",
              "      <th></th>\n",
              "      <th></th>\n",
              "      <th></th>\n",
              "      <th></th>\n",
              "    </tr>\n",
              "  </thead>\n",
              "  <tbody>\n",
              "    <tr>\n",
              "      <th>1.000000e-09</th>\n",
              "      <td>0.065495</td>\n",
              "      <td>0.238685</td>\n",
              "      <td>0.215936</td>\n",
              "      <td>0.152249</td>\n",
              "      <td>0.061384</td>\n",
              "      <td>0.901448</td>\n",
              "      <td>5.245242</td>\n",
              "    </tr>\n",
              "    <tr>\n",
              "      <th>1.000000e-08</th>\n",
              "      <td>0.065483</td>\n",
              "      <td>0.198687</td>\n",
              "      <td>0.153527</td>\n",
              "      <td>0.181250</td>\n",
              "      <td>0.169702</td>\n",
              "      <td>0.130690</td>\n",
              "      <td>0.090853</td>\n",
              "    </tr>\n",
              "    <tr>\n",
              "      <th>1.000000e-07</th>\n",
              "      <td>0.065367</td>\n",
              "      <td>0.170111</td>\n",
              "      <td>0.147181</td>\n",
              "      <td>0.149181</td>\n",
              "      <td>0.164708</td>\n",
              "      <td>0.190000</td>\n",
              "      <td>0.233292</td>\n",
              "    </tr>\n",
              "    <tr>\n",
              "      <th>1.000000e-06</th>\n",
              "      <td>0.064705</td>\n",
              "      <td>0.137402</td>\n",
              "      <td>0.181550</td>\n",
              "      <td>0.183262</td>\n",
              "      <td>0.174451</td>\n",
              "      <td>0.166913</td>\n",
              "      <td>0.165161</td>\n",
              "    </tr>\n",
              "    <tr>\n",
              "      <th>1.000000e-05</th>\n",
              "      <td>0.065371</td>\n",
              "      <td>0.103581</td>\n",
              "      <td>0.170195</td>\n",
              "      <td>0.214013</td>\n",
              "      <td>0.226504</td>\n",
              "      <td>0.213320</td>\n",
              "      <td>0.184873</td>\n",
              "    </tr>\n",
              "    <tr>\n",
              "      <th>1.000000e-04</th>\n",
              "      <td>0.138256</td>\n",
              "      <td>0.088029</td>\n",
              "      <td>0.159558</td>\n",
              "      <td>0.247798</td>\n",
              "      <td>0.318735</td>\n",
              "      <td>0.360822</td>\n",
              "      <td>0.372869</td>\n",
              "    </tr>\n",
              "    <tr>\n",
              "      <th>1.000000e-03</th>\n",
              "      <td>0.662481</td>\n",
              "      <td>0.293952</td>\n",
              "      <td>0.179865</td>\n",
              "      <td>0.183191</td>\n",
              "      <td>0.239010</td>\n",
              "      <td>0.313635</td>\n",
              "      <td>0.387648</td>\n",
              "    </tr>\n",
              "  </tbody>\n",
              "</table>\n",
              "</div>"
            ],
            "text/plain": [
              "Orden                 3         4         5  ...         7         8         9\n",
              "Regularizador                                ...                              \n",
              "1.000000e-09   0.065495  0.238685  0.215936  ...  0.061384  0.901448  5.245242\n",
              "1.000000e-08   0.065483  0.198687  0.153527  ...  0.169702  0.130690  0.090853\n",
              "1.000000e-07   0.065367  0.170111  0.147181  ...  0.164708  0.190000  0.233292\n",
              "1.000000e-06   0.064705  0.137402  0.181550  ...  0.174451  0.166913  0.165161\n",
              "1.000000e-05   0.065371  0.103581  0.170195  ...  0.226504  0.213320  0.184873\n",
              "1.000000e-04   0.138256  0.088029  0.159558  ...  0.318735  0.360822  0.372869\n",
              "1.000000e-03   0.662481  0.293952  0.179865  ...  0.239010  0.313635  0.387648\n",
              "\n",
              "[7 rows x 7 columns]"
            ]
          },
          "metadata": {
            "tags": []
          },
          "execution_count": 37
        }
      ]
    },
    {
      "cell_type": "code",
      "metadata": {
        "id": "HxtHb2sWKRUM",
        "colab_type": "code",
        "colab": {
          "base_uri": "https://localhost:8080/",
          "height": 285
        },
        "outputId": "746ef0d3-c89f-421b-af37-67dcdd0cfa97"
      },
      "source": [
        "import numpy as np\n",
        "\n",
        "import seaborn as sns; sns.set()\n",
        "\n",
        "from google.colab import files\n",
        "sns.heatmap(dat,center = 3 )\n",
        "\n",
        "plt.savefig('heatTestNuevito.png')\n"
      ],
      "execution_count": 41,
      "outputs": [
        {
          "output_type": "display_data",
          "data": {
            "image/png": "[encoded data removed]",
            "text/plain": [
              "<Figure size 432x288 with 2 Axes>"
            ]
          },
          "metadata": {
            "tags": []
          }
        }
      ]
    }
  ]
}